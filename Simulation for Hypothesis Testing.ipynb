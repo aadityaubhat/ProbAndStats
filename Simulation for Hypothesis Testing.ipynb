{
 "cells": [
  {
   "cell_type": "markdown",
   "metadata": {},
   "source": [
    "# Hypothesis Testing \n",
    "\n",
    "## Introduction \n",
    "A hypothesis test is a statistical test that is used to determine whether there is enough evidence in a sample of data to infer that a certain condition is true for the entire population.\n",
    "\n",
    "A hypothesis test examines two opposing hypotheses about a population: the null hypothesis and the alternative hypothesis. The null hypothesis is the statement being tested. Usually the null hypothesis is a statement of \"no effect\" or \"no difference\". The alternative hypothesis is the statement you want to be able to conclude is true.\n",
    "\n",
    "##  Example Problem Statement\n",
    "You toss a coin 30 times and see 22 heads. Is it a fair coin?\n",
    "\n",
    "\n",
    "## Classical Approach \n",
    "We can answer the above question using Hypothesis Testing. In order to answer the question we will follow the following steps - \n",
    "\n",
    "\n",
    "* Assume the status quo is correct, i.e. the coin is fair and we are seeing 22 heads just by chance.\n",
    "\n",
    "* Compute the probability of getting 22 heads in 30 coin tosses.\n",
    "     - Coin tosses follow a Binomial Distribution. \n",
    "     - The formula for the Binomial Distribution is -\n",
    "     $$ P(k \\ heads \\ in \\ N \\ tosses) = \\binom{N}{k} \\cdot p^kq^{N-k} $$\n",
    "     where, \n",
    "           N = Number of coin tosses = 30\n",
    "           k = Number of heads = 22\n",
    "           p = Probability of getting heads = 0.5\n",
    "           q = Probability of getting tails = 0.5\n",
    "     - Solving this equation gives us the value of 0.008.\n",
    "     - This probability is called as the P-value.\n",
    "\n",
    "\n",
    "\n",
    "* Compare the P-value with the preset significance level for the test. Considering 5% Significance Level. \n",
    "* If P-value < Significance Level => Reject Null Hypothesis, else Fail to Reject Null Hypothesis. In this test our P-Value 0.008 is less that our Significance Level 0.05. Therefore, we Reject the Null Hypothesis that the coin is fair.\n",
    "\n",
    "\n",
    "**This approach is intuitive and easy to follow for statisticians, but might not be best suited for coders and hackers. For coders and hackers, this can problem be solved by running a simple Simulation**\n",
    "\n",
    "## Simulation Approach"
   ]
  },
  {
   "cell_type": "code",
   "execution_count": 37,
   "metadata": {
    "collapsed": false
   },
   "outputs": [
    {
     "data": {
      "image/png": "[encoded data removed]",
      "text/plain": [
       "<matplotlib.figure.Figure at 0x10b9cffd0>"
      ]
     },
     "metadata": {},
     "output_type": "display_data"
    },
    {
     "name": "stdout",
     "output_type": "stream",
     "text": [
      "P - value computed by the simulation =  0.0088\n"
     ]
    }
   ],
   "source": [
    "# Methodology -\n",
    "# Run the 30 Coin Tosses experiment for a 10,000 iterations; compute p-value based on the results of these iterations.\n",
    "\n",
    "# Importing the required libraries\n",
    "from numpy.random import randint\n",
    "import matplotlib.pyplot as plt\n",
    "\n",
    "\n",
    "# Initialize count variable to store the counts of experiment where number of heads >= 22\n",
    "count = 0\n",
    "\n",
    "# Initialize an empty list to store number of heads in each experiment\n",
    "results = []\n",
    "\n",
    "\n",
    "for i in xrange(10000):\n",
    "    # Generate 30 coin tosses in list, where head is represented by 1 and tail is represented by 0\n",
    "    trials = randint(2,size=30)\n",
    "    \n",
    "    # Count total number of heads for 30 coin tosses\n",
    "    numberOfHeads = trials.sum()\n",
    "    \n",
    "    # Add the number of heads to the results list\n",
    "    results.append(numberOfHeads)\n",
    "    \n",
    "    # If number of heads >= 22, increment the count variable by 1\n",
    "    if( numberOfHeads >= 22):\n",
    "        count += 1\n",
    "\n",
    "        \n",
    "# Plotting the Histogram of Number of heads per 30 coin tosses\n",
    "plt.hist(results)\n",
    "plt.title(\"Plot 1 - Histogram of Number of heads per 30 coin tosses \\n\")\n",
    "plt.ylabel(\"Frequency\")\n",
    "plt.xlabel(\"Number of heads per 30 coin tosses\")\n",
    "plt.show()\n",
    "\n",
    "\n",
    "# Computing P-Value\n",
    "# P - value is the probability of having 22 or more heads in 30 coin tosses.\n",
    "# Therefore, P - value = number of experiments having 22 or more heads / total number of experiments\n",
    "\n",
    "p = count/ 10000.00\n",
    "\n",
    "print \"P - value computed by the simulation = \", p\n",
    "    "
   ]
  },
  {
   "cell_type": "markdown",
   "metadata": {},
   "source": [
    "## Simulation Conclusion\n",
    "\n",
    "* The distribution of Number of heads per Coin Tosses is centered at 15, as expected\n",
    "* The P-Value we get by simulation (0.0088) is very close to the actual P-Value (0.008)\n",
    "\n",
    "### Reference\n",
    "[Jake Vanderplas's PyCon 2016 Talk](https://www.youtube.com/watch?v=Iq9DzN6mvYA&t=473s)"
   ]
  }
 ],
 "metadata": {
  "kernelspec": {
   "display_name": "Python 2",
   "language": "python",
   "name": "python2"
  },
  "language_info": {
   "codemirror_mode": {
    "name": "ipython",
    "version": 2
   },
   "file_extension": ".py",
   "mimetype": "text/x-python",
   "name": "python",
   "nbconvert_exporter": "python",
   "pygments_lexer": "ipython2",
   "version": "2.7.12"
  }
 },
 "nbformat": 4,
 "nbformat_minor": 1
}
